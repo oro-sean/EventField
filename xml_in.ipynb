{
 "cells": [
  {
   "cell_type": "code",
   "execution_count": 38,
   "metadata": {},
   "outputs": [
    {
     "data": {
      "application/vnd.jupyter.widget-view+json": {
       "model_id": "15ff50605b534743bd0a0dec4a88a0c4",
       "version_major": 2,
       "version_minor": 0
      },
      "text/plain": [
       "FileChooser(path='C:\\Users\\veering_windows\\Documents\\GitHub\\EventField', filename='', title='', show_hidden=Fa…"
      ]
     },
     "metadata": {},
     "output_type": "display_data"
    }
   ],
   "source": [
    "import ipywidgets as widgets\n",
    "from IPython.display import display\n",
    "import xml.etree.ElementTree as ET\n",
    "from ipyfilechooser import FileChooser\n",
    "fc = FileChooser()\n",
    "display(fc)"
   ]
  },
  {
   "cell_type": "code",
   "execution_count": 39,
   "metadata": {},
   "outputs": [],
   "source": []
  },
  {
   "cell_type": "code",
   "execution_count": 40,
   "metadata": {
    "pycharm": {
     "name": "#%%\n"
    }
   },
   "outputs": [],
   "source": [
    "#### package up as get config\n",
    "tree = ET.parse(fc.selected)\n",
    "root = tree.getroot()\n",
    "\n",
    "mains = []\n",
    "jibs = []\n",
    "spins = []\n",
    "stays = []\n",
    "sail_dict = {}\n",
    "\n",
    "for sail in root.findall(\"./sailinventory/item[@sailgroup='M']\"):\n",
    "    mains.append(sail.get('name'))\n",
    "sail_dict['mains'] = mains\n",
    "\n",
    "for sail in root.findall(\"./sailinventory/item[@sailgroup='H']\"):\n",
    "    jibs.append(sail.get('name'))\n",
    "sail_dict['jibs'] = jibs\n",
    "\n",
    "for sail in root.findall(\"./sailinventory/item[@sailgroup='S']\"):\n",
    "    spins.append(sail.get('name'))\n",
    "sail_dict['spins'] = spins\n",
    "\n",
    "stays = jibs\n",
    "sail_dict['stays'] = stays\n",
    "\n",
    "categorical = {}\n",
    "integer = []\n",
    "float = []\n",
    "for var in root.findall(\"./perfvariables/item[@calculationtype='ManualEntry']\"):\n",
    "    if var.get('type') == 'FromList':\n",
    "        categorical[var.get('name')] = var.get('calculationformula')\n",
    "\n",
    "    if var.get('type') == 'Scalar':\n",
    "        if var.get('decimals') == '0':\n",
    "            integer.append(var.get('name'))\n",
    "\n",
    "        else:\n",
    "            float.append((var.get('name')))\n",
    "\n",
    "categorical = {k:v.split(';') for (k,v) in categorical.items()}\n",
    "\n",
    "variables_dict = {'sails':sail_dict,\n",
    "                  'categorical': categorical,\n",
    "                  'integer': integer,\n",
    "                  'float': float}\n"
   ]
  },
  {
   "cell_type": "code",
   "execution_count": 41,
   "metadata": {
    "pycharm": {
     "name": "#%%\n"
    }
   },
   "outputs": [],
   "source": [
    "## package up as selectors\n",
    "sail_dict = variables_dict['sails']\n",
    "categorical = variables_dict['categorical']\n",
    "integer = variables_dict['integer']\n",
    "float = variables_dict['float']\n",
    "\n",
    "sail_selectors = {}\n",
    "for sailType in sail_dict.keys():\n",
    "    sail_selectors[sailType] = widgets.Select(options=sail_dict[sailType],\n",
    "                                                       description=sailType)\n",
    "categorical_selectors = {}\n",
    "for catVariable in categorical.keys():\n",
    "    categorical_selectors[catVariable] = widgets.Select(options=categorical[catVariable],\n",
    "                                                       description=catVariable)\n",
    "\n",
    "int_selectors = {}\n",
    "for intVariable in integer:\n",
    "    int_selectors[intVariable] = widgets.IntText(description=intVariable)\n",
    "\n",
    "float_selectors = {}\n",
    "for floatVariable in float:\n",
    "    float_selectors[floatVariable] = widgets.FloatText(desciption=floatVariable)\n",
    "\n",
    "selectors_dict = {'sails':sail_selectors,\n",
    "                  'categorical': categorical_selectors,\n",
    "                  'integer': int_selectors,\n",
    "                  'float': float_selectors}\n"
   ]
  },
  {
   "cell_type": "code",
   "execution_count": 30,
   "metadata": {},
   "outputs": [],
   "source": [
    "config_file = widgets.FileUpload(accept='.xml')"
   ]
  },
  {
   "cell_type": "code",
   "execution_count": 31,
   "metadata": {
    "pycharm": {
     "name": "#%%\n"
    }
   },
   "outputs": [
    {
     "data": {
      "application/vnd.jupyter.widget-view+json": {
       "model_id": "551d992b30ff4de1aed5eeb22b7d015e",
       "version_major": 2,
       "version_minor": 0
      },
      "text/plain": [
       "FileUpload(value={}, accept='.xml', description='Upload')"
      ]
     },
     "metadata": {},
     "output_type": "display_data"
    }
   ],
   "source": [
    "display(config_file)"
   ]
  },
  {
   "cell_type": "code",
   "execution_count": 32,
   "metadata": {
    "pycharm": {
     "name": "#%%\n"
    }
   },
   "outputs": [
    {
     "data": {
      "text/plain": [
       "{}"
      ]
     },
     "execution_count": 32,
     "metadata": {},
     "output_type": "execute_result"
    }
   ],
   "source": [
    "config_file.value"
   ]
  },
  {
   "cell_type": "code",
   "execution_count": 33,
   "metadata": {
    "pycharm": {
     "name": "#%%\n"
    }
   },
   "outputs": [],
   "source": []
  },
  {
   "cell_type": "code",
   "execution_count": 34,
   "metadata": {
    "pycharm": {
     "name": "#%%\n"
    }
   },
   "outputs": [
    {
     "data": {
      "application/vnd.jupyter.widget-view+json": {
       "model_id": "c748e8c300d947bd8ca06a13ac4e966b",
       "version_major": 2,
       "version_minor": 0
      },
      "text/plain": [
       "FileChooser(path='C:\\Users\\veering_windows\\Documents\\GitHub\\EventField', filename='', title='', show_hidden=Fa…"
      ]
     },
     "metadata": {},
     "output_type": "display_data"
    }
   ],
   "source": []
  },
  {
   "cell_type": "code",
   "execution_count": 36,
   "metadata": {
    "pycharm": {
     "name": "#%%\n"
    }
   },
   "outputs": [
    {
     "data": {
      "text/plain": [
       "'C:\\\\Users\\\\veering_windows\\\\Desktop\\\\JubDump\\\\2.0 Performance Anlysis\\\\Config\\\\jubilee_V1.4_220918.xml'"
      ]
     },
     "execution_count": 36,
     "metadata": {},
     "output_type": "execute_result"
    }
   ],
   "source": []
  },
  {
   "cell_type": "code",
   "execution_count": 42,
   "metadata": {},
   "outputs": [],
   "source": [
    "test_1=selectors_dict['sails']"
   ]
  },
  {
   "cell_type": "code",
   "execution_count": 43,
   "metadata": {},
   "outputs": [],
   "source": [
    "test_2=test_1['jibs']"
   ]
  },
  {
   "cell_type": "code",
   "execution_count": 44,
   "metadata": {},
   "outputs": [
    {
     "data": {
      "application/vnd.jupyter.widget-view+json": {
       "model_id": "698f745de0994025a92db488d82094ed",
       "version_major": 2,
       "version_minor": 0
      },
      "text/plain": [
       "Select(description='jibs', options=('J1.5-1', 'J1.5-2', 'J2.5-1', 'J2.5-2', 'J4-1'), value='J1.5-1')"
      ]
     },
     "metadata": {},
     "output_type": "display_data"
    }
   ],
   "source": [
    "display(test_2)"
   ]
  },
  {
   "cell_type": "code",
   "execution_count": null,
   "metadata": {},
   "outputs": [],
   "source": []
  }
 ],
 "metadata": {
  "kernelspec": {
   "display_name": "Python 3 (ipykernel)",
   "language": "python",
   "name": "python3"
  },
  "language_info": {
   "codemirror_mode": {
    "name": "ipython",
    "version": 3
   },
   "file_extension": ".py",
   "mimetype": "text/x-python",
   "name": "python",
   "nbconvert_exporter": "python",
   "pygments_lexer": "ipython3",
   "version": "3.10.9"
  }
 },
 "nbformat": 4,
 "nbformat_minor": 1
}